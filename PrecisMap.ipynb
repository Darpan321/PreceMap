{
  "nbformat": 4,
  "nbformat_minor": 0,
  "metadata": {
    "colab": {
      "provenance": []
    },
    "kernelspec": {
      "name": "python3",
      "display_name": "Python 3"
    },
    "language_info": {
      "name": "python"
    }
  },
  "cells": [
    {
      "cell_type": "markdown",
      "source": [
        "Installing Required Libraries"
      ],
      "metadata": {
        "id": "-35LM8cj3ldv"
      }
    },
    {
      "cell_type": "code",
      "execution_count": 1,
      "metadata": {
        "colab": {
          "base_uri": "https://localhost:8080/"
        },
        "id": "UvTIzE7Yrm53",
        "outputId": "9fe2a0a7-606f-494d-80e9-f0d39c989373"
      },
      "outputs": [
        {
          "output_type": "stream",
          "name": "stdout",
          "text": [
            "Requirement already satisfied: flask in /usr/local/lib/python3.12/dist-packages (3.1.2)\n",
            "Requirement already satisfied: pyngrok in /usr/local/lib/python3.12/dist-packages (7.3.0)\n",
            "Requirement already satisfied: requests in /usr/local/lib/python3.12/dist-packages (2.32.4)\n",
            "Requirement already satisfied: openai in /usr/local/lib/python3.12/dist-packages (1.107.2)\n",
            "Requirement already satisfied: google-auth in /usr/local/lib/python3.12/dist-packages (2.38.0)\n",
            "Requirement already satisfied: nest-asyncio in /usr/local/lib/python3.12/dist-packages (1.6.0)\n",
            "Requirement already satisfied: blinker>=1.9.0 in /usr/local/lib/python3.12/dist-packages (from flask) (1.9.0)\n",
            "Requirement already satisfied: click>=8.1.3 in /usr/local/lib/python3.12/dist-packages (from flask) (8.2.1)\n",
            "Requirement already satisfied: itsdangerous>=2.2.0 in /usr/local/lib/python3.12/dist-packages (from flask) (2.2.0)\n",
            "Requirement already satisfied: jinja2>=3.1.2 in /usr/local/lib/python3.12/dist-packages (from flask) (3.1.6)\n",
            "Requirement already satisfied: markupsafe>=2.1.1 in /usr/local/lib/python3.12/dist-packages (from flask) (3.0.2)\n",
            "Requirement already satisfied: werkzeug>=3.1.0 in /usr/local/lib/python3.12/dist-packages (from flask) (3.1.3)\n",
            "Requirement already satisfied: PyYAML>=5.1 in /usr/local/lib/python3.12/dist-packages (from pyngrok) (6.0.2)\n",
            "Requirement already satisfied: charset_normalizer<4,>=2 in /usr/local/lib/python3.12/dist-packages (from requests) (3.4.3)\n",
            "Requirement already satisfied: idna<4,>=2.5 in /usr/local/lib/python3.12/dist-packages (from requests) (3.10)\n",
            "Requirement already satisfied: urllib3<3,>=1.21.1 in /usr/local/lib/python3.12/dist-packages (from requests) (2.5.0)\n",
            "Requirement already satisfied: certifi>=2017.4.17 in /usr/local/lib/python3.12/dist-packages (from requests) (2025.8.3)\n",
            "Requirement already satisfied: anyio<5,>=3.5.0 in /usr/local/lib/python3.12/dist-packages (from openai) (4.10.0)\n",
            "Requirement already satisfied: distro<2,>=1.7.0 in /usr/local/lib/python3.12/dist-packages (from openai) (1.9.0)\n",
            "Requirement already satisfied: httpx<1,>=0.23.0 in /usr/local/lib/python3.12/dist-packages (from openai) (0.28.1)\n",
            "Requirement already satisfied: jiter<1,>=0.4.0 in /usr/local/lib/python3.12/dist-packages (from openai) (0.10.0)\n",
            "Requirement already satisfied: pydantic<3,>=1.9.0 in /usr/local/lib/python3.12/dist-packages (from openai) (2.11.7)\n",
            "Requirement already satisfied: sniffio in /usr/local/lib/python3.12/dist-packages (from openai) (1.3.1)\n",
            "Requirement already satisfied: tqdm>4 in /usr/local/lib/python3.12/dist-packages (from openai) (4.67.1)\n",
            "Requirement already satisfied: typing-extensions<5,>=4.11 in /usr/local/lib/python3.12/dist-packages (from openai) (4.15.0)\n",
            "Requirement already satisfied: cachetools<6.0,>=2.0.0 in /usr/local/lib/python3.12/dist-packages (from google-auth) (5.5.2)\n",
            "Requirement already satisfied: pyasn1-modules>=0.2.1 in /usr/local/lib/python3.12/dist-packages (from google-auth) (0.4.2)\n",
            "Requirement already satisfied: rsa<5,>=3.1.4 in /usr/local/lib/python3.12/dist-packages (from google-auth) (4.9.1)\n",
            "Requirement already satisfied: httpcore==1.* in /usr/local/lib/python3.12/dist-packages (from httpx<1,>=0.23.0->openai) (1.0.9)\n",
            "Requirement already satisfied: h11>=0.16 in /usr/local/lib/python3.12/dist-packages (from httpcore==1.*->httpx<1,>=0.23.0->openai) (0.16.0)\n",
            "Requirement already satisfied: pyasn1<0.7.0,>=0.6.1 in /usr/local/lib/python3.12/dist-packages (from pyasn1-modules>=0.2.1->google-auth) (0.6.1)\n",
            "Requirement already satisfied: annotated-types>=0.6.0 in /usr/local/lib/python3.12/dist-packages (from pydantic<3,>=1.9.0->openai) (0.7.0)\n",
            "Requirement already satisfied: pydantic-core==2.33.2 in /usr/local/lib/python3.12/dist-packages (from pydantic<3,>=1.9.0->openai) (2.33.2)\n",
            "Requirement already satisfied: typing-inspection>=0.4.0 in /usr/local/lib/python3.12/dist-packages (from pydantic<3,>=1.9.0->openai) (0.4.1)\n"
          ]
        }
      ],
      "source": [
        "!pip install flask pyngrok requests openai google-auth nest-asyncio"
      ]
    },
    {
      "cell_type": "markdown",
      "source": [
        "Importing Libraries"
      ],
      "metadata": {
        "id": "BdVqrLvk3pVB"
      }
    },
    {
      "cell_type": "code",
      "source": [
        "from flask import Flask, render_template_string, request\n",
        "from pyngrok import ngrok\n",
        "import threading\n",
        "import nest_asyncio\n",
        "import requests\n",
        "from openai import OpenAI\n",
        "from google.oauth2 import service_account\n",
        "from google.auth.transport.requests import Request\n",
        "import os\n",
        "from datetime import datetime, timezone , timedelta\n",
        "import json\n",
        "import time\n",
        "import logging\n",
        "import traceback"
      ],
      "metadata": {
        "id": "IxmNc-9A8pTL"
      },
      "execution_count": 2,
      "outputs": []
    },
    {
      "cell_type": "markdown",
      "source": [
        "API Section"
      ],
      "metadata": {
        "id": "3QIVx-zqsTyQ"
      }
    },
    {
      "cell_type": "code",
      "source": [
        "os.environ['GOOGLE_MAPS_API_KEY'] = \"Enter your API Key here\"\n",
        "os.environ['OPENAI_API_KEY'] = \"Enter your API Key here\""
      ],
      "metadata": {
        "id": "E0Sryl1RsXEe"
      },
      "execution_count": 3,
      "outputs": []
    },
    {
      "cell_type": "markdown",
      "source": [
        "Google OAuth Process"
      ],
      "metadata": {
        "id": "iz-ArVIK3ydH"
      }
    },
    {
      "cell_type": "code",
      "source": [
        "from google.colab import files\n",
        "uploaded = files.upload()"
      ],
      "metadata": {
        "colab": {
          "base_uri": "https://localhost:8080/",
          "height": 73
        },
        "id": "MDffg1mw9HeN",
        "outputId": "d712d0d2-8d2c-4bcc-b149-9e42177fdf0b"
      },
      "execution_count": 4,
      "outputs": [
        {
          "output_type": "display_data",
          "data": {
            "text/plain": [
              "<IPython.core.display.HTML object>"
            ],
            "text/html": [
              "\n",
              "     <input type=\"file\" id=\"files-e2e202f2-95d6-416d-a7b8-a86b513f985f\" name=\"files[]\" multiple disabled\n",
              "        style=\"border:none\" />\n",
              "     <output id=\"result-e2e202f2-95d6-416d-a7b8-a86b513f985f\">\n",
              "      Upload widget is only available when the cell has been executed in the\n",
              "      current browser session. Please rerun this cell to enable.\n",
              "      </output>\n",
              "      <script>// Copyright 2017 Google LLC\n",
              "//\n",
              "// Licensed under the Apache License, Version 2.0 (the \"License\");\n",
              "// you may not use this file except in compliance with the License.\n",
              "// You may obtain a copy of the License at\n",
              "//\n",
              "//      http://www.apache.org/licenses/LICENSE-2.0\n",
              "//\n",
              "// Unless required by applicable law or agreed to in writing, software\n",
              "// distributed under the License is distributed on an \"AS IS\" BASIS,\n",
              "// WITHOUT WARRANTIES OR CONDITIONS OF ANY KIND, either express or implied.\n",
              "// See the License for the specific language governing permissions and\n",
              "// limitations under the License.\n",
              "\n",
              "/**\n",
              " * @fileoverview Helpers for google.colab Python module.\n",
              " */\n",
              "(function(scope) {\n",
              "function span(text, styleAttributes = {}) {\n",
              "  const element = document.createElement('span');\n",
              "  element.textContent = text;\n",
              "  for (const key of Object.keys(styleAttributes)) {\n",
              "    element.style[key] = styleAttributes[key];\n",
              "  }\n",
              "  return element;\n",
              "}\n",
              "\n",
              "// Max number of bytes which will be uploaded at a time.\n",
              "const MAX_PAYLOAD_SIZE = 100 * 1024;\n",
              "\n",
              "function _uploadFiles(inputId, outputId) {\n",
              "  const steps = uploadFilesStep(inputId, outputId);\n",
              "  const outputElement = document.getElementById(outputId);\n",
              "  // Cache steps on the outputElement to make it available for the next call\n",
              "  // to uploadFilesContinue from Python.\n",
              "  outputElement.steps = steps;\n",
              "\n",
              "  return _uploadFilesContinue(outputId);\n",
              "}\n",
              "\n",
              "// This is roughly an async generator (not supported in the browser yet),\n",
              "// where there are multiple asynchronous steps and the Python side is going\n",
              "// to poll for completion of each step.\n",
              "// This uses a Promise to block the python side on completion of each step,\n",
              "// then passes the result of the previous step as the input to the next step.\n",
              "function _uploadFilesContinue(outputId) {\n",
              "  const outputElement = document.getElementById(outputId);\n",
              "  const steps = outputElement.steps;\n",
              "\n",
              "  const next = steps.next(outputElement.lastPromiseValue);\n",
              "  return Promise.resolve(next.value.promise).then((value) => {\n",
              "    // Cache the last promise value to make it available to the next\n",
              "    // step of the generator.\n",
              "    outputElement.lastPromiseValue = value;\n",
              "    return next.value.response;\n",
              "  });\n",
              "}\n",
              "\n",
              "/**\n",
              " * Generator function which is called between each async step of the upload\n",
              " * process.\n",
              " * @param {string} inputId Element ID of the input file picker element.\n",
              " * @param {string} outputId Element ID of the output display.\n",
              " * @return {!Iterable<!Object>} Iterable of next steps.\n",
              " */\n",
              "function* uploadFilesStep(inputId, outputId) {\n",
              "  const inputElement = document.getElementById(inputId);\n",
              "  inputElement.disabled = false;\n",
              "\n",
              "  const outputElement = document.getElementById(outputId);\n",
              "  outputElement.innerHTML = '';\n",
              "\n",
              "  const pickedPromise = new Promise((resolve) => {\n",
              "    inputElement.addEventListener('change', (e) => {\n",
              "      resolve(e.target.files);\n",
              "    });\n",
              "  });\n",
              "\n",
              "  const cancel = document.createElement('button');\n",
              "  inputElement.parentElement.appendChild(cancel);\n",
              "  cancel.textContent = 'Cancel upload';\n",
              "  const cancelPromise = new Promise((resolve) => {\n",
              "    cancel.onclick = () => {\n",
              "      resolve(null);\n",
              "    };\n",
              "  });\n",
              "\n",
              "  // Wait for the user to pick the files.\n",
              "  const files = yield {\n",
              "    promise: Promise.race([pickedPromise, cancelPromise]),\n",
              "    response: {\n",
              "      action: 'starting',\n",
              "    }\n",
              "  };\n",
              "\n",
              "  cancel.remove();\n",
              "\n",
              "  // Disable the input element since further picks are not allowed.\n",
              "  inputElement.disabled = true;\n",
              "\n",
              "  if (!files) {\n",
              "    return {\n",
              "      response: {\n",
              "        action: 'complete',\n",
              "      }\n",
              "    };\n",
              "  }\n",
              "\n",
              "  for (const file of files) {\n",
              "    const li = document.createElement('li');\n",
              "    li.append(span(file.name, {fontWeight: 'bold'}));\n",
              "    li.append(span(\n",
              "        `(${file.type || 'n/a'}) - ${file.size} bytes, ` +\n",
              "        `last modified: ${\n",
              "            file.lastModifiedDate ? file.lastModifiedDate.toLocaleDateString() :\n",
              "                                    'n/a'} - `));\n",
              "    const percent = span('0% done');\n",
              "    li.appendChild(percent);\n",
              "\n",
              "    outputElement.appendChild(li);\n",
              "\n",
              "    const fileDataPromise = new Promise((resolve) => {\n",
              "      const reader = new FileReader();\n",
              "      reader.onload = (e) => {\n",
              "        resolve(e.target.result);\n",
              "      };\n",
              "      reader.readAsArrayBuffer(file);\n",
              "    });\n",
              "    // Wait for the data to be ready.\n",
              "    let fileData = yield {\n",
              "      promise: fileDataPromise,\n",
              "      response: {\n",
              "        action: 'continue',\n",
              "      }\n",
              "    };\n",
              "\n",
              "    // Use a chunked sending to avoid message size limits. See b/62115660.\n",
              "    let position = 0;\n",
              "    do {\n",
              "      const length = Math.min(fileData.byteLength - position, MAX_PAYLOAD_SIZE);\n",
              "      const chunk = new Uint8Array(fileData, position, length);\n",
              "      position += length;\n",
              "\n",
              "      const base64 = btoa(String.fromCharCode.apply(null, chunk));\n",
              "      yield {\n",
              "        response: {\n",
              "          action: 'append',\n",
              "          file: file.name,\n",
              "          data: base64,\n",
              "        },\n",
              "      };\n",
              "\n",
              "      let percentDone = fileData.byteLength === 0 ?\n",
              "          100 :\n",
              "          Math.round((position / fileData.byteLength) * 100);\n",
              "      percent.textContent = `${percentDone}% done`;\n",
              "\n",
              "    } while (position < fileData.byteLength);\n",
              "  }\n",
              "\n",
              "  // All done.\n",
              "  yield {\n",
              "    response: {\n",
              "      action: 'complete',\n",
              "    }\n",
              "  };\n",
              "}\n",
              "\n",
              "scope.google = scope.google || {};\n",
              "scope.google.colab = scope.google.colab || {};\n",
              "scope.google.colab._files = {\n",
              "  _uploadFiles,\n",
              "  _uploadFilesContinue,\n",
              "};\n",
              "})(self);\n",
              "</script> "
            ]
          },
          "metadata": {}
        },
        {
          "output_type": "stream",
          "name": "stdout",
          "text": [
            "Saving precemap-ee1cbbc06eef.json to precemap-ee1cbbc06eef (10).json\n"
          ]
        }
      ]
    },
    {
      "cell_type": "code",
      "source": [
        "SERVICE_ACCOUNT_FILE = \"/content/precemap-ee1cbbc06eef.json\"\n",
        "SCOPES = [\"https://www.googleapis.com/auth/generative-language\"]\n",
        "\n",
        "credentials = service_account.Credentials.from_service_account_file(\n",
        "    SERVICE_ACCOUNT_FILE,\n",
        "    scopes=SCOPES\n",
        ")\n",
        "\n",
        "credentials.refresh(Request())\n",
        "GEMINI_ACCESS_TOKEN = credentials.token\n",
        "print(\"Gemini OAuth access token acquired.\")"
      ],
      "metadata": {
        "colab": {
          "base_uri": "https://localhost:8080/"
        },
        "id": "1chIwFup830C",
        "outputId": "2af61561-467a-4b05-99a4-c893ba86b17d"
      },
      "execution_count": 5,
      "outputs": [
        {
          "output_type": "stream",
          "name": "stdout",
          "text": [
            "Gemini OAuth access token acquired.\n"
          ]
        }
      ]
    },
    {
      "cell_type": "markdown",
      "source": [
        "OPENAI Client"
      ],
      "metadata": {
        "id": "TDDptCRx31Iu"
      }
    },
    {
      "cell_type": "code",
      "source": [
        "# Initialize the OpenAI client once (do this globally)\n",
        "client = OpenAI(api_key=os.getenv(\"OPENAI_API_KEY\"))"
      ],
      "metadata": {
        "id": "qmV-yJ_vJXt-"
      },
      "execution_count": 6,
      "outputs": []
    },
    {
      "cell_type": "code",
      "source": [
        "app = Flask(__name__)\n",
        "html_template = '''\n",
        "<!DOCTYPE html>\n",
        "<html>\n",
        "<head>\n",
        "    <title>Route Analysis</title>\n",
        "    <style>\n",
        "        body {\n",
        "            font-family: Arial, sans-serif;\n",
        "            margin: 20px;\n",
        "            padding: 0 10px;\n",
        "            max-width: 600px;\n",
        "            margin-left: auto;\n",
        "            margin-right: auto;\n",
        "        }\n",
        "        input, button {\n",
        "            padding: 10px;\n",
        "            margin: 10px 0;\n",
        "            width: 100%;\n",
        "            box-sizing: border-box;\n",
        "            font-size: 1rem;\n",
        "        }\n",
        "        button {\n",
        "            background-color: #0b75c9;\n",
        "            color: white;\n",
        "            border: none;\n",
        "            cursor: pointer;\n",
        "            max-width: 100%;\n",
        "        }\n",
        "        pre {\n",
        "            background: #f4f4f4;\n",
        "            padding: 15px;\n",
        "            white-space: pre-wrap;\n",
        "            word-wrap: break-word;\n",
        "            max-height: 400px;\n",
        "            overflow: auto;\n",
        "            border-radius: 5px;\n",
        "            box-shadow: 0 1px 4px rgba(0,0,0,0.1);\n",
        "        }\n",
        "        h2, h3 {\n",
        "            text-align: center;\n",
        "        }\n",
        "        form {\n",
        "            display: flex;\n",
        "            flex-direction: column;\n",
        "        }\n",
        "        /* Responsive adjustments */\n",
        "        @media (max-width: 480px) {\n",
        "            body {\n",
        "                margin: 10px;\n",
        "                padding: 0 5px;\n",
        "                max-width: 100%;\n",
        "            }\n",
        "            input, button {\n",
        "                font-size: 1rem;\n",
        "            }\n",
        "        }\n",
        "    </style>\n",
        "</head>\n",
        "<body>\n",
        "    <h2>Enter Route Details</h2>\n",
        "    <form method=\"POST\" action=\"/\">\n",
        "        Origin:<br>\n",
        "        <input type=\"text\" name=\"origin\" required><br>\n",
        "        Destination:<br>\n",
        "        <input type=\"text\" name=\"destination\" required><br>\n",
        "        Departure Time (optional):<br>\n",
        "        <input type=\"datetime-local\" name=\"departure_time\"><br>\n",
        "        <button type=\"submit\">Get Best Route</button>\n",
        "    </form>\n",
        "\n",
        "    {% if result %}\n",
        "    <h3>Analysis Result:</h3>\n",
        "    <pre>{{ result }}</pre>\n",
        "    {% endif %}\n",
        "</body>\n",
        "</html>\n",
        "'''"
      ],
      "metadata": {
        "id": "MDGf6mzAJcbQ"
      },
      "execution_count": 19,
      "outputs": []
    },
    {
      "cell_type": "markdown",
      "source": [
        "Geocoding Addresses"
      ],
      "metadata": {
        "id": "ReyIky1v343D"
      }
    },
    {
      "cell_type": "code",
      "source": [
        "def geocode_address(address):\n",
        "    url = \"https://maps.googleapis.com/maps/api/geocode/json\"\n",
        "    params = {\n",
        "        \"address\": address,\n",
        "        \"key\": os.getenv(\"GOOGLE_MAPS_API_KEY\")\n",
        "    }\n",
        "    response = requests.get(url, params=params)\n",
        "    data = response.json()\n",
        "    if data[\"status\"] == \"OK\":\n",
        "        location = data[\"results\"][0][\"geometry\"][\"location\"]\n",
        "        return location[\"lat\"], location[\"lng\"]\n",
        "    else:\n",
        "        raise Exception(f\"Geocode error: {data.get('error_message', data['status'])}\")\n",
        "\n",
        "def get_routes(origin_addr, destination_addr, departure_time=None):\n",
        "    url = \"https://routes.googleapis.com/directions/v2:computeRoutes\"\n",
        "    api_key = os.getenv(\"GOOGLE_MAPS_API_KEY\")\n",
        "\n",
        "    origin_lat, origin_lng = geocode_address(origin_addr)\n",
        "    dest_lat, dest_lng = geocode_address(destination_addr)\n",
        "\n",
        "    field_mask = \"routes.legs.distanceMeters,routes.legs.duration,routes.legs.steps.distanceMeters,routes.legs.steps.duration,routes.legs.steps.maneuver,routes.legs.steps.startLocation,routes.legs.steps.endLocation\"\n",
        "\n",
        "    headers = {\n",
        "        \"Content-Type\": \"application/json\",\n",
        "        \"X-Goog-Api-Key\": api_key,\n",
        "        \"X-Goog-FieldMask\": \"*\"\n",
        "    }\n",
        "\n",
        "    if departure_time is None:\n",
        "        departure_time = (datetime.now(timezone.utc) + timedelta(minutes=5)).isoformat()\n",
        "\n",
        "    body = {\n",
        "        \"origin\": {\n",
        "        \"location\": {\n",
        "            \"latLng\": {\n",
        "                \"latitude\": origin_lat,\n",
        "                \"longitude\": origin_lng\n",
        "            }\n",
        "        }\n",
        "    },\n",
        "    \"destination\": {\n",
        "        \"location\": {\n",
        "            \"latLng\": {\n",
        "                \"latitude\": dest_lat,\n",
        "                \"longitude\": dest_lng\n",
        "            }\n",
        "        }\n",
        "    },\n",
        "    \"travelMode\": \"DRIVE\",\n",
        "    \"computeAlternativeRoutes\": True,\n",
        "    \"departureTime\": departure_time,\n",
        "    \"routingPreference\": \"TRAFFIC_AWARE\"\n",
        "    }\n",
        "\n",
        "    response = requests.post(url, headers=headers, json=body)\n",
        "    response_json = response.json()\n",
        "    print(json.dumps(response_json, indent=2))\n",
        "    return response_json"
      ],
      "metadata": {
        "id": "ILA2HXeLJiIf"
      },
      "execution_count": 8,
      "outputs": []
    },
    {
      "cell_type": "markdown",
      "source": [
        "Route Summary"
      ],
      "metadata": {
        "id": "7DP_MVpF3_Pj"
      }
    },
    {
      "cell_type": "code",
      "source": [
        "def summarize_routes(route_response, max_routes=3):\n",
        "    summaries = []\n",
        "    for idx, route in enumerate(route_response.get(\"routes\", [])[:max_routes]):\n",
        "        dist_m = route.get(\"distanceMeters\", 0)\n",
        "        dur_val = route.get(\"duration\", \"0s\")\n",
        "        if isinstance(dur_val, str):\n",
        "            dur_s = int(dur_val.rstrip(\"s\"))\n",
        "        else:\n",
        "            dur_s = int(dur_val)\n",
        "        dist_km = dist_m / 1000\n",
        "        dur_min = dur_s / 60\n",
        "        summary = f\"Route {idx+1}: Distance approximately {dist_km:.1f} km, estimated time {dur_min:.1f} minutes.\"\n",
        "        summaries.append(summary)\n",
        "    summary_text = \"\\n\".join(summaries)\n",
        "    return summary_text"
      ],
      "metadata": {
        "id": "JhphDjQjJlVy"
      },
      "execution_count": 9,
      "outputs": []
    },
    {
      "cell_type": "markdown",
      "source": [
        "Route Details Extraction"
      ],
      "metadata": {
        "id": "7CTCSOAy4Brq"
      }
    },
    {
      "cell_type": "code",
      "source": [
        "def extract_route_details(route_response, max_routes=3):\n",
        "    route_details_list = []\n",
        "    for idx, route in enumerate(route_response.get(\"routes\", [])[:max_routes]):\n",
        "        route_steps = []\n",
        "        for leg in route.get(\"legs\", []):\n",
        "            for step in leg.get(\"steps\", []):\n",
        "                step_detail = {\n",
        "                    \"roadName\": step.get(\"roadName\"),\n",
        "                    \"maneuver\": step.get(\"maneuver\"),\n",
        "                    \"lengthMeters\": step.get(\"lengthMeters\"),\n",
        "                    \"duration\": step.get(\"duration\"),\n",
        "                    \"exitNumber\": step.get(\"exitNumber\"),\n",
        "                }\n",
        "                route_steps.append(step_detail)\n",
        "        route_details_list.append({\"routeIndex\": idx + 1, \"steps\": route_steps})\n",
        "    return route_details_list"
      ],
      "metadata": {
        "id": "5EO7k04SY8LQ"
      },
      "execution_count": 10,
      "outputs": []
    },
    {
      "cell_type": "markdown",
      "source": [
        "Detailed Route Summary"
      ],
      "metadata": {
        "id": "qCGF9Uyw4EZq"
      }
    },
    {
      "cell_type": "code",
      "source": [
        "def summarize_route_details(route_details, max_steps_per_route=10):\n",
        "    summaries = []\n",
        "    for route in route_details:\n",
        "        idx = route[\"routeIndex\"]\n",
        "        steps = route[\"steps\"][:max_steps_per_route]  # cap steps to keep prompt manageable\n",
        "\n",
        "        parts = []\n",
        "        for step in steps:\n",
        "            road = step.get(\"roadName\", \"Road\")\n",
        "            length_km = step.get(\"lengthMeters\", 0) / 1000\n",
        "            maneuver = step.get(\"maneuver\", \"\")\n",
        "            exit_num = step.get(\"exitNumber\")\n",
        "\n",
        "            part = f\"Drive on {road}\"\n",
        "            if length_km > 0:\n",
        "                part += f\" for {length_km:.1f} km\"\n",
        "            if exit_num:\n",
        "                part += f\", take exit {exit_num}\"\n",
        "            if maneuver:\n",
        "                part += f\", then {maneuver}\"\n",
        "            parts.append(part)\n",
        "\n",
        "        route_summary = f\"Route {idx} details:\\n\" + \"\\n\".join(parts)\n",
        "        summaries.append(route_summary)\n",
        "\n",
        "    return \"\\n\\n\".join(summaries)"
      ],
      "metadata": {
        "id": "rurfkF8ka93K"
      },
      "execution_count": 11,
      "outputs": []
    },
    {
      "cell_type": "markdown",
      "source": [
        "Navigation Instructions Extraction"
      ],
      "metadata": {
        "id": "h0_qqSwy4HUg"
      }
    },
    {
      "cell_type": "code",
      "source": [
        "def extract_navigation_instructions(route_response, max_routes=3):\n",
        "    instructions = []\n",
        "    for idx, route in enumerate(route_response.get(\"routes\", [])[:max_routes]):\n",
        "        steps_texts = []\n",
        "        for leg in route.get(\"legs\", []):\n",
        "            for step in leg.get(\"steps\", []):\n",
        "                nav_instr = step.get(\"navigationInstruction\", {})\n",
        "                instr = nav_instr.get(\"instructions\", \"\")  # Extract your target 'instructions' string\n",
        "                if instr:\n",
        "                    steps_texts.append(instr)\n",
        "        instructions.append(f\"Route {idx+1} Navigation Instructions:\\n\" + \"\\n\".join(steps_texts))\n",
        "    return \"\\n\\n\".join(instructions)"
      ],
      "metadata": {
        "id": "T2CYY6_5qesi"
      },
      "execution_count": 12,
      "outputs": []
    },
    {
      "cell_type": "markdown",
      "source": [
        "GPT and Gemini Prompt Creation"
      ],
      "metadata": {
        "id": "m4PaI_Zp4KRL"
      }
    },
    {
      "cell_type": "code",
      "source": [
        "def create_prompt_with_navigation(route_data, mode=\"car\", priorities=\"fastest time\", departure_time=None, max_routes=3, max_steps=10):\n",
        "    summary = summarize_routes(route_data, max_routes=max_routes)\n",
        "    navigation_instructions = extract_navigation_instructions(route_data, max_routes=max_routes)\n",
        "\n",
        "    if departure_time:\n",
        "        dt_str = datetime.datetime.fromtimestamp(departure_time).strftime(\"%Y-%m-%d %I:%M %p\")\n",
        "    else:\n",
        "        dt_str = \"current time\"\n",
        "\n",
        "    prompt = (\n",
        "        f\"I am traveling by {mode} departing at {dt_str}.\\n\"\n",
        "        f\"My priority is {priorities}.\\n\"\n",
        "        f\"Here are the routes provided by Google Maps with distances and times:\\n{summary}\\n\\n\"\n",
        "        f\"Step-by-step driving instructions for each route:\\n{navigation_instructions}\\n\\n\"\n",
        "        \"Based on this, suggest any alternative or optimized routes, specifying which highways and local roads I should take, \"\n",
        "        \"including any exits or maneuvers that could improve the route for faster and more accurate travel.\"\n",
        "    )\n",
        "    return prompt"
      ],
      "metadata": {
        "id": "-qfnCIDtJnwY"
      },
      "execution_count": 13,
      "outputs": []
    },
    {
      "cell_type": "markdown",
      "source": [
        "AI Route Analysis with GPT"
      ],
      "metadata": {
        "id": "6PpcKGje4QGy"
      }
    },
    {
      "cell_type": "code",
      "source": [
        "def analyze_route_gpt(route_data):\n",
        "    prompt = create_prompt_with_navigation(route_data)\n",
        "    response = client.chat.completions.create(\n",
        "        model=\"gpt-4o\",\n",
        "        messages=[{\"role\": \"user\", \"content\": prompt}],\n",
        "        max_tokens=200\n",
        "    )\n",
        "    return response.choices[0].message.content"
      ],
      "metadata": {
        "id": "4WH2hj-pJqdf"
      },
      "execution_count": 14,
      "outputs": []
    },
    {
      "cell_type": "markdown",
      "source": [
        "AI Route Analysis with Gemini"
      ],
      "metadata": {
        "id": "SbFiCQZO4SU9"
      }
    },
    {
      "cell_type": "code",
      "source": [
        "def analyze_route_gemini(route_data):\n",
        "    prompt = create_prompt_with_navigation(route_data)\n",
        "    gemini_endpoint = \"https://generativelanguage.googleapis.com/v1beta/models/gemini-2.0-flash:generateContent\"\n",
        "    headers = {\n",
        "        \"Authorization\": f\"Bearer {GEMINI_ACCESS_TOKEN}\",\n",
        "        \"Content-Type\": \"application/json\",\n",
        "    }\n",
        "    payload = {\"contents\": [{\"parts\": [{\"text\": prompt}]}]}\n",
        "    response = requests.post(gemini_endpoint, headers=headers, json=payload)\n",
        "    response_json = response.json()\n",
        "    try:\n",
        "        return response_json['candidates'][0]['content']['parts'][0]['text']\n",
        "    except (KeyError, IndexError):\n",
        "        return \"No response from Gemini or unexpected response format.\""
      ],
      "metadata": {
        "id": "f9iflmcKJupV"
      },
      "execution_count": 15,
      "outputs": []
    },
    {
      "cell_type": "markdown",
      "source": [
        "Synthesis of AI Suggestions"
      ],
      "metadata": {
        "id": "TGAs1aND4U6U"
      }
    },
    {
      "cell_type": "code",
      "source": [
        "def synthesize_routes(gpt_res, gemini_res):\n",
        "    return f\"GPT suggests:\\n{gpt_res}\\n\\nGemini suggests:\\n{gemini_res}\""
      ],
      "metadata": {
        "id": "ddmsxxjLJyVS"
      },
      "execution_count": 16,
      "outputs": []
    },
    {
      "cell_type": "markdown",
      "source": [
        "Flask Web Server and UI"
      ],
      "metadata": {
        "id": "12QVMmyG4Xi1"
      }
    },
    {
      "cell_type": "code",
      "source": [
        "@app.route(\"/\", methods=[\"GET\", \"POST\"])\n",
        "def home():\n",
        "    result = None\n",
        "    error_message = None\n",
        "    try:\n",
        "        if request.method == \"POST\":\n",
        "            origin = request.form.get(\"origin\")\n",
        "            destination = request.form.get(\"destination\")\n",
        "            departure_time = request.form.get(\"departure_time\")\n",
        "\n",
        "            # Validate required fields\n",
        "            if not origin or not destination:\n",
        "                error_message = \"Origin and destination are required.\"\n",
        "                return render_template_string(html_template, result=error_message)\n",
        "\n",
        "            if departure_time:\n",
        "                try:\n",
        "                    dt = datetime.datetime.fromisoformat(departure_time)\n",
        "                    departure_ts = int(dt.timestamp())\n",
        "                except Exception as e:\n",
        "                    error_message = f\"Invalid departure time format: {e}\"\n",
        "                    return render_template_string(html_template, result=error_message)\n",
        "            else:\n",
        "                departure_ts = None\n",
        "\n",
        "            route_data = get_routes(origin, destination, departure_ts)\n",
        "\n",
        "            # Check if routes exist in response\n",
        "            if not route_data.get(\"routes\"):\n",
        "                error_message = \"No routes found for the given locations.\"\n",
        "                return render_template_string(html_template, result=error_message)\n",
        "\n",
        "            gpt_result = analyze_route_gpt(route_data)\n",
        "            gemini_result = analyze_route_gemini(route_data)\n",
        "            result = synthesize_routes(gpt_result, gemini_result)\n",
        "\n",
        "    except Exception as exc:\n",
        "        logging.error(f\"Exception in home route: {exc}\")\n",
        "        logging.error(traceback.format_exc())\n",
        "        error_message = f\"Internal server error: {exc}\"\n",
        "\n",
        "    return render_template_string(html_template, result=result or error_message)"
      ],
      "metadata": {
        "id": "4EysyGX8J3NQ"
      },
      "execution_count": 17,
      "outputs": []
    },
    {
      "cell_type": "code",
      "source": [
        "import nest_asyncio\n",
        "nest_asyncio.apply()\n",
        "\n",
        "public_url = ngrok.connect(5000)\n",
        "print(f\"Public URL: {public_url}\")\n",
        "\n",
        "def run():\n",
        "    app.run(host=\"0.0.0.0\", port=5000)\n",
        "\n",
        "import threading\n",
        "thread = threading.Thread(target=run)\n",
        "thread.start()"
      ],
      "metadata": {
        "colab": {
          "base_uri": "https://localhost:8080/"
        },
        "id": "uB4NVeecJ5gF",
        "outputId": "02b8ae6e-b8c0-4cfd-e172-16d7360db66e"
      },
      "execution_count": 18,
      "outputs": [
        {
          "output_type": "stream",
          "name": "stdout",
          "text": [
            "Public URL: NgrokTunnel: \"https://9bf43a31fdb6.ngrok-free.app\" -> \"http://localhost:5000\"\n"
          ]
        }
      ]
    }
  ]
}
